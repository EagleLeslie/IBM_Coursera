{
 "cells": [
  {
   "cell_type": "markdown",
   "id": "58932add",
   "metadata": {},
   "source": [
    "# Data Science Tools and Ecosystem"
   ]
  },
  {
   "cell_type": "markdown",
   "id": "8138e0e8",
   "metadata": {},
   "source": [
    "In this notebook, Data Science Tools and Ecosystem are summarized."
   ]
  },
  {
   "cell_type": "markdown",
   "id": "00d2deaa",
   "metadata": {},
   "source": [
    "**Objectives:**\n",
    "* List popular languages for Data Science\n",
    "* Commonly used libraries by Data Scientists\n",
    "* Data Science Tools"
   ]
  },
  {
   "cell_type": "markdown",
   "id": "f133db79",
   "metadata": {},
   "source": [
    "Some of the popular languages that Data Scientists use are:\n",
    "<li> Python\n",
    "<li> R\n",
    "<li> Julia"
   ]
  },
  {
   "cell_type": "markdown",
   "id": "65516631",
   "metadata": {},
   "source": [
    "Some of the commonly used libraries used by Data Scientists include:\n",
    "<li> matplotlib\n",
    "<li> pandas\n",
    "<li> scipy"
   ]
  },
  {
   "cell_type": "markdown",
   "id": "54aaa640",
   "metadata": {},
   "source": [
    "| Data Science Tools |\n",
    "| -- |\n",
    "|Jupyter notebook| \n",
    "|Anaconda | \n",
    "|R Studio|"
   ]
  },
  {
   "cell_type": "markdown",
   "id": "b7d98c52",
   "metadata": {},
   "source": [
    "### Below are a few examples of evaluating arithmetic expressions in Python "
   ]
  },
  {
   "cell_type": "code",
   "execution_count": 1,
   "id": "0f97f6e8",
   "metadata": {},
   "outputs": [
    {
     "data": {
      "text/plain": [
       "17"
      ]
     },
     "execution_count": 1,
     "metadata": {},
     "output_type": "execute_result"
    }
   ],
   "source": [
    "# This a simple arithmetic expression to mutiply then add integers\n",
    "(3*4)+5"
   ]
  },
  {
   "cell_type": "code",
   "execution_count": 2,
   "id": "7164e6c7",
   "metadata": {},
   "outputs": [
    {
     "data": {
      "text/plain": [
       "3.3333333333333335"
      ]
     },
     "execution_count": 2,
     "metadata": {},
     "output_type": "execute_result"
    }
   ],
   "source": [
    "# This will convert 200 minutes to hours by diving by 60\n",
    "200/60"
   ]
  },
  {
   "cell_type": "markdown",
   "id": "01f318b6",
   "metadata": {},
   "source": [
    "## Author\n",
    "Leslie Insixiengmay"
   ]
  },
  {
   "cell_type": "code",
   "execution_count": null,
   "id": "0b26b068",
   "metadata": {},
   "outputs": [],
   "source": []
  }
 ],
 "metadata": {
  "kernelspec": {
   "display_name": "Python 3 (ipykernel)",
   "language": "python",
   "name": "python3"
  },
  "language_info": {
   "codemirror_mode": {
    "name": "ipython",
    "version": 3
   },
   "file_extension": ".py",
   "mimetype": "text/x-python",
   "name": "python",
   "nbconvert_exporter": "python",
   "pygments_lexer": "ipython3",
   "version": "3.10.4"
  }
 },
 "nbformat": 4,
 "nbformat_minor": 5
}
